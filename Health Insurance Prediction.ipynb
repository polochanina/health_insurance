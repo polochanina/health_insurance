{
 "cells": [
  {
   "cell_type": "code",
   "execution_count": 1,
   "metadata": {},
   "outputs": [],
   "source": [
    "import numpy as np\n",
    "import pandas as pd\n",
    "import matplotlib.pyplot as plt\n",
    "%matplotlib inline"
   ]
  },
  {
   "cell_type": "markdown",
   "metadata": {},
   "source": [
    "### Loading the data from csv file and creating a pandas dataframe"
   ]
  },
  {
   "cell_type": "code",
   "execution_count": 2,
   "metadata": {},
   "outputs": [],
   "source": [
    "path_to_csv = 'insurance.csv'\n",
    "df_original = pd.read_csv(path_to_csv)"
   ]
  },
  {
   "cell_type": "markdown",
   "metadata": {},
   "source": [
    "# Exploratory Data Analysis\n",
    "Let's explore the data for our tasks: dataset features and target variables, types of features, the number of entries, presence of NaN values."
   ]
  },
  {
   "cell_type": "code",
   "execution_count": 3,
   "metadata": {
    "scrolled": false
   },
   "outputs": [
    {
     "data": {
      "text/html": [
       "<div>\n",
       "<style scoped>\n",
       "    .dataframe tbody tr th:only-of-type {\n",
       "        vertical-align: middle;\n",
       "    }\n",
       "\n",
       "    .dataframe tbody tr th {\n",
       "        vertical-align: top;\n",
       "    }\n",
       "\n",
       "    .dataframe thead th {\n",
       "        text-align: right;\n",
       "    }\n",
       "</style>\n",
       "<table border=\"1\" class=\"dataframe\">\n",
       "  <thead>\n",
       "    <tr style=\"text-align: right;\">\n",
       "      <th></th>\n",
       "      <th>age</th>\n",
       "      <th>sex</th>\n",
       "      <th>bmi</th>\n",
       "      <th>children</th>\n",
       "      <th>smoker</th>\n",
       "      <th>region</th>\n",
       "      <th>charges</th>\n",
       "    </tr>\n",
       "  </thead>\n",
       "  <tbody>\n",
       "    <tr>\n",
       "      <th>0</th>\n",
       "      <td>19</td>\n",
       "      <td>female</td>\n",
       "      <td>27.900</td>\n",
       "      <td>0</td>\n",
       "      <td>yes</td>\n",
       "      <td>southwest</td>\n",
       "      <td>16884.92400</td>\n",
       "    </tr>\n",
       "    <tr>\n",
       "      <th>1</th>\n",
       "      <td>18</td>\n",
       "      <td>male</td>\n",
       "      <td>33.770</td>\n",
       "      <td>1</td>\n",
       "      <td>no</td>\n",
       "      <td>southeast</td>\n",
       "      <td>1725.55230</td>\n",
       "    </tr>\n",
       "    <tr>\n",
       "      <th>2</th>\n",
       "      <td>28</td>\n",
       "      <td>male</td>\n",
       "      <td>33.000</td>\n",
       "      <td>3</td>\n",
       "      <td>no</td>\n",
       "      <td>southeast</td>\n",
       "      <td>4449.46200</td>\n",
       "    </tr>\n",
       "    <tr>\n",
       "      <th>3</th>\n",
       "      <td>33</td>\n",
       "      <td>male</td>\n",
       "      <td>22.705</td>\n",
       "      <td>0</td>\n",
       "      <td>no</td>\n",
       "      <td>northwest</td>\n",
       "      <td>21984.47061</td>\n",
       "    </tr>\n",
       "    <tr>\n",
       "      <th>4</th>\n",
       "      <td>32</td>\n",
       "      <td>male</td>\n",
       "      <td>28.880</td>\n",
       "      <td>0</td>\n",
       "      <td>no</td>\n",
       "      <td>northwest</td>\n",
       "      <td>3866.85520</td>\n",
       "    </tr>\n",
       "  </tbody>\n",
       "</table>\n",
       "</div>"
      ],
      "text/plain": [
       "   age     sex     bmi  children smoker     region      charges\n",
       "0   19  female  27.900         0    yes  southwest  16884.92400\n",
       "1   18    male  33.770         1     no  southeast   1725.55230\n",
       "2   28    male  33.000         3     no  southeast   4449.46200\n",
       "3   33    male  22.705         0     no  northwest  21984.47061\n",
       "4   32    male  28.880         0     no  northwest   3866.85520"
      ]
     },
     "execution_count": 3,
     "metadata": {},
     "output_type": "execute_result"
    }
   ],
   "source": [
    "df_original.head()"
   ]
  },
  {
   "cell_type": "code",
   "execution_count": 4,
   "metadata": {},
   "outputs": [
    {
     "name": "stdout",
     "output_type": "stream",
     "text": [
      "(1338, 7)\n",
      "False\n"
     ]
    },
    {
     "data": {
      "text/plain": [
       "age           int64\n",
       "sex          object\n",
       "bmi         float64\n",
       "children      int64\n",
       "smoker       object\n",
       "region       object\n",
       "charges     float64\n",
       "dtype: object"
      ]
     },
     "execution_count": 4,
     "metadata": {},
     "output_type": "execute_result"
    }
   ],
   "source": [
    "print(df_original.shape)\n",
    "print(df_original.isnull().any().any())\n",
    "df_original.dtypes"
   ]
  },
  {
   "cell_type": "markdown",
   "metadata": {},
   "source": [
    "There is 1338 entries with 7 features ('charges' is the target feature) and there are no NaN values in dataframe.\n",
    "\n",
    "There are several non-numerical features: binary ('sex' and 'smoker') and categorical ('region'). This can be a problem for further data analysis and prediction. \n",
    "\n",
    "Let's preprocess the data and look at the dataset after that."
   ]
  },
  {
   "cell_type": "code",
   "execution_count": 5,
   "metadata": {},
   "outputs": [],
   "source": [
    "df = df_original.copy()\n",
    "df['smoker'] = df['smoker'].map({'yes': 1, 'no': 0})\n",
    "df['sex'] = df['sex'].map({'male': 1, 'female': 0})\n",
    "df['region'] = df['region'].astype('category').cat.codes"
   ]
  },
  {
   "cell_type": "code",
   "execution_count": 6,
   "metadata": {},
   "outputs": [
    {
     "data": {
      "text/html": [
       "<div>\n",
       "<style scoped>\n",
       "    .dataframe tbody tr th:only-of-type {\n",
       "        vertical-align: middle;\n",
       "    }\n",
       "\n",
       "    .dataframe tbody tr th {\n",
       "        vertical-align: top;\n",
       "    }\n",
       "\n",
       "    .dataframe thead th {\n",
       "        text-align: right;\n",
       "    }\n",
       "</style>\n",
       "<table border=\"1\" class=\"dataframe\">\n",
       "  <thead>\n",
       "    <tr style=\"text-align: right;\">\n",
       "      <th></th>\n",
       "      <th>age</th>\n",
       "      <th>sex</th>\n",
       "      <th>bmi</th>\n",
       "      <th>children</th>\n",
       "      <th>smoker</th>\n",
       "      <th>region</th>\n",
       "      <th>charges</th>\n",
       "    </tr>\n",
       "  </thead>\n",
       "  <tbody>\n",
       "    <tr>\n",
       "      <th>0</th>\n",
       "      <td>19</td>\n",
       "      <td>0</td>\n",
       "      <td>27.900</td>\n",
       "      <td>0</td>\n",
       "      <td>1</td>\n",
       "      <td>3</td>\n",
       "      <td>16884.92400</td>\n",
       "    </tr>\n",
       "    <tr>\n",
       "      <th>1</th>\n",
       "      <td>18</td>\n",
       "      <td>1</td>\n",
       "      <td>33.770</td>\n",
       "      <td>1</td>\n",
       "      <td>0</td>\n",
       "      <td>2</td>\n",
       "      <td>1725.55230</td>\n",
       "    </tr>\n",
       "    <tr>\n",
       "      <th>2</th>\n",
       "      <td>28</td>\n",
       "      <td>1</td>\n",
       "      <td>33.000</td>\n",
       "      <td>3</td>\n",
       "      <td>0</td>\n",
       "      <td>2</td>\n",
       "      <td>4449.46200</td>\n",
       "    </tr>\n",
       "    <tr>\n",
       "      <th>3</th>\n",
       "      <td>33</td>\n",
       "      <td>1</td>\n",
       "      <td>22.705</td>\n",
       "      <td>0</td>\n",
       "      <td>0</td>\n",
       "      <td>1</td>\n",
       "      <td>21984.47061</td>\n",
       "    </tr>\n",
       "    <tr>\n",
       "      <th>4</th>\n",
       "      <td>32</td>\n",
       "      <td>1</td>\n",
       "      <td>28.880</td>\n",
       "      <td>0</td>\n",
       "      <td>0</td>\n",
       "      <td>1</td>\n",
       "      <td>3866.85520</td>\n",
       "    </tr>\n",
       "  </tbody>\n",
       "</table>\n",
       "</div>"
      ],
      "text/plain": [
       "   age  sex     bmi  children  smoker  region      charges\n",
       "0   19    0  27.900         0       1       3  16884.92400\n",
       "1   18    1  33.770         1       0       2   1725.55230\n",
       "2   28    1  33.000         3       0       2   4449.46200\n",
       "3   33    1  22.705         0       0       1  21984.47061\n",
       "4   32    1  28.880         0       0       1   3866.85520"
      ]
     },
     "execution_count": 6,
     "metadata": {},
     "output_type": "execute_result"
    }
   ],
   "source": [
    "df.head()"
   ]
  },
  {
   "cell_type": "markdown",
   "metadata": {},
   "source": [
    "Let's look at the statistics for our data."
   ]
  },
  {
   "cell_type": "code",
   "execution_count": 7,
   "metadata": {},
   "outputs": [
    {
     "data": {
      "text/html": [
       "<div>\n",
       "<style scoped>\n",
       "    .dataframe tbody tr th:only-of-type {\n",
       "        vertical-align: middle;\n",
       "    }\n",
       "\n",
       "    .dataframe tbody tr th {\n",
       "        vertical-align: top;\n",
       "    }\n",
       "\n",
       "    .dataframe thead th {\n",
       "        text-align: right;\n",
       "    }\n",
       "</style>\n",
       "<table border=\"1\" class=\"dataframe\">\n",
       "  <thead>\n",
       "    <tr style=\"text-align: right;\">\n",
       "      <th></th>\n",
       "      <th>age</th>\n",
       "      <th>sex</th>\n",
       "      <th>bmi</th>\n",
       "      <th>children</th>\n",
       "      <th>smoker</th>\n",
       "      <th>region</th>\n",
       "      <th>charges</th>\n",
       "    </tr>\n",
       "  </thead>\n",
       "  <tbody>\n",
       "    <tr>\n",
       "      <th>count</th>\n",
       "      <td>1338.000000</td>\n",
       "      <td>1338.000000</td>\n",
       "      <td>1338.000000</td>\n",
       "      <td>1338.000000</td>\n",
       "      <td>1338.000000</td>\n",
       "      <td>1338.000000</td>\n",
       "      <td>1338.000000</td>\n",
       "    </tr>\n",
       "    <tr>\n",
       "      <th>mean</th>\n",
       "      <td>39.207025</td>\n",
       "      <td>0.505232</td>\n",
       "      <td>30.663397</td>\n",
       "      <td>1.094918</td>\n",
       "      <td>0.204783</td>\n",
       "      <td>1.515695</td>\n",
       "      <td>13270.422265</td>\n",
       "    </tr>\n",
       "    <tr>\n",
       "      <th>std</th>\n",
       "      <td>14.049960</td>\n",
       "      <td>0.500160</td>\n",
       "      <td>6.098187</td>\n",
       "      <td>1.205493</td>\n",
       "      <td>0.403694</td>\n",
       "      <td>1.104885</td>\n",
       "      <td>12110.011237</td>\n",
       "    </tr>\n",
       "    <tr>\n",
       "      <th>min</th>\n",
       "      <td>18.000000</td>\n",
       "      <td>0.000000</td>\n",
       "      <td>15.960000</td>\n",
       "      <td>0.000000</td>\n",
       "      <td>0.000000</td>\n",
       "      <td>0.000000</td>\n",
       "      <td>1121.873900</td>\n",
       "    </tr>\n",
       "    <tr>\n",
       "      <th>25%</th>\n",
       "      <td>27.000000</td>\n",
       "      <td>0.000000</td>\n",
       "      <td>26.296250</td>\n",
       "      <td>0.000000</td>\n",
       "      <td>0.000000</td>\n",
       "      <td>1.000000</td>\n",
       "      <td>4740.287150</td>\n",
       "    </tr>\n",
       "    <tr>\n",
       "      <th>50%</th>\n",
       "      <td>39.000000</td>\n",
       "      <td>1.000000</td>\n",
       "      <td>30.400000</td>\n",
       "      <td>1.000000</td>\n",
       "      <td>0.000000</td>\n",
       "      <td>2.000000</td>\n",
       "      <td>9382.033000</td>\n",
       "    </tr>\n",
       "    <tr>\n",
       "      <th>75%</th>\n",
       "      <td>51.000000</td>\n",
       "      <td>1.000000</td>\n",
       "      <td>34.693750</td>\n",
       "      <td>2.000000</td>\n",
       "      <td>0.000000</td>\n",
       "      <td>2.000000</td>\n",
       "      <td>16639.912515</td>\n",
       "    </tr>\n",
       "    <tr>\n",
       "      <th>max</th>\n",
       "      <td>64.000000</td>\n",
       "      <td>1.000000</td>\n",
       "      <td>53.130000</td>\n",
       "      <td>5.000000</td>\n",
       "      <td>1.000000</td>\n",
       "      <td>3.000000</td>\n",
       "      <td>63770.428010</td>\n",
       "    </tr>\n",
       "  </tbody>\n",
       "</table>\n",
       "</div>"
      ],
      "text/plain": [
       "               age          sex          bmi     children       smoker  \\\n",
       "count  1338.000000  1338.000000  1338.000000  1338.000000  1338.000000   \n",
       "mean     39.207025     0.505232    30.663397     1.094918     0.204783   \n",
       "std      14.049960     0.500160     6.098187     1.205493     0.403694   \n",
       "min      18.000000     0.000000    15.960000     0.000000     0.000000   \n",
       "25%      27.000000     0.000000    26.296250     0.000000     0.000000   \n",
       "50%      39.000000     1.000000    30.400000     1.000000     0.000000   \n",
       "75%      51.000000     1.000000    34.693750     2.000000     0.000000   \n",
       "max      64.000000     1.000000    53.130000     5.000000     1.000000   \n",
       "\n",
       "            region       charges  \n",
       "count  1338.000000   1338.000000  \n",
       "mean      1.515695  13270.422265  \n",
       "std       1.104885  12110.011237  \n",
       "min       0.000000   1121.873900  \n",
       "25%       1.000000   4740.287150  \n",
       "50%       2.000000   9382.033000  \n",
       "75%       2.000000  16639.912515  \n",
       "max       3.000000  63770.428010  "
      ]
     },
     "execution_count": 7,
     "metadata": {},
     "output_type": "execute_result"
    }
   ],
   "source": [
    "df.describe()"
   ]
  },
  {
   "cell_type": "code",
   "execution_count": 8,
   "metadata": {},
   "outputs": [
    {
     "data": {
      "image/png": "[encoded data removed]",
      "text/plain": [
       "<Figure size 720x720 with 9 Axes>"
      ]
     },
     "metadata": {
      "needs_background": "light"
     },
     "output_type": "display_data"
    }
   ],
   "source": [
    "df.hist(figsize=(10,10))\n",
    "plt.show()"
   ]
  },
  {
   "cell_type": "markdown",
   "metadata": {},
   "source": [
    "## Feature Analysis\n",
    "At the moment its hard to say, what features are the most important for prediction. Let's compute the Pearson correlation between features and target variable to find it out."
   ]
  },
  {
   "cell_type": "code",
   "execution_count": 9,
   "metadata": {},
   "outputs": [
    {
     "data": {
      "image/png": "[encoded data removed]",
      "text/plain": [
       "<Figure size 432x288 with 2 Axes>"
      ]
     },
     "metadata": {
      "needs_background": "light"
     },
     "output_type": "display_data"
    }
   ],
   "source": [
    "import seaborn as sns\n",
    "var_corr = df.corr()\n",
    "sns.heatmap(var_corr, xticklabels=var_corr.columns, yticklabels=var_corr.columns, \n",
    "            annot=True, vmin=-1, vmax=1, cmap= 'RdBu_r')\n",
    "plt.show()"
   ]
  },
  {
   "cell_type": "code",
   "execution_count": 10,
   "metadata": {},
   "outputs": [
    {
     "data": {
      "text/plain": [
       "charges     1.000000\n",
       "smoker      0.787251\n",
       "age         0.299008\n",
       "bmi         0.198341\n",
       "children    0.067998\n",
       "sex         0.057292\n",
       "region     -0.006208\n",
       "Name: charges, dtype: float64"
      ]
     },
     "execution_count": 10,
     "metadata": {},
     "output_type": "execute_result"
    }
   ],
   "source": [
    "var_corr['charges'].sort_values(ascending=False)"
   ]
  },
  {
   "cell_type": "markdown",
   "metadata": {},
   "source": [
    "'smoker', 'age' and 'bmi' appears to be the most important features, their correlation with target variable is rather large. At the same time, other features seem to be far less meaningful, their correlation with target variable is close to zero.\n",
    "\n",
    "Based on that, we will use only these three most important features for further prediction. Removing unnecessary features will make data less noisy and will reduce the risk of overfitting."
   ]
  },
  {
   "cell_type": "code",
   "execution_count": 11,
   "metadata": {},
   "outputs": [],
   "source": [
    "cols = ['smoker', 'age', 'bmi', 'charges']\n",
    "df_meaningful = df[cols]"
   ]
  },
  {
   "cell_type": "markdown",
   "metadata": {},
   "source": [
    "Let's visualize the relations between this features and target:"
   ]
  },
  {
   "cell_type": "code",
   "execution_count": 12,
   "metadata": {},
   "outputs": [
    {
     "data": {
      "image/png": "[encoded data removed]",
      "text/plain": [
       "<Figure size 432x288 with 1 Axes>"
      ]
     },
     "metadata": {
      "needs_background": "light"
     },
     "output_type": "display_data"
    },
    {
     "data": {
      "image/png": "[encoded data removed]",
      "text/plain": [
       "<Figure size 432x288 with 1 Axes>"
      ]
     },
     "metadata": {
      "needs_background": "light"
     },
     "output_type": "display_data"
    },
    {
     "data": {
      "image/png": "[encoded data removed]",
      "text/plain": [
       "<Figure size 432x288 with 1 Axes>"
      ]
     },
     "metadata": {
      "needs_background": "light"
     },
     "output_type": "display_data"
    }
   ],
   "source": [
    "for c in cols[:-1]:\n",
    "    plt.figure()\n",
    "    plt.scatter(df_meaningful[c], df_meaningful['charges'])\n",
    "    plt.xlabel(c)\n",
    "    plt.ylabel('charges')    \n",
    "    plt.show()"
   ]
  },
  {
   "cell_type": "markdown",
   "metadata": {},
   "source": [
    "Analyzing the plots we can say that, smokers tend to be charged more. Charges also grow along with age and bmi.  "
   ]
  },
  {
   "cell_type": "markdown",
   "metadata": {},
   "source": [
    "Let's check the correlation between new features:`"
   ]
  },
  {
   "cell_type": "code",
   "execution_count": 13,
   "metadata": {},
   "outputs": [
    {
     "data": {
      "text/html": [
       "<div>\n",
       "<style scoped>\n",
       "    .dataframe tbody tr th:only-of-type {\n",
       "        vertical-align: middle;\n",
       "    }\n",
       "\n",
       "    .dataframe tbody tr th {\n",
       "        vertical-align: top;\n",
       "    }\n",
       "\n",
       "    .dataframe thead th {\n",
       "        text-align: right;\n",
       "    }\n",
       "</style>\n",
       "<table border=\"1\" class=\"dataframe\">\n",
       "  <thead>\n",
       "    <tr style=\"text-align: right;\">\n",
       "      <th></th>\n",
       "      <th>smoker</th>\n",
       "      <th>age</th>\n",
       "      <th>bmi</th>\n",
       "      <th>charges</th>\n",
       "    </tr>\n",
       "  </thead>\n",
       "  <tbody>\n",
       "    <tr>\n",
       "      <th>smoker</th>\n",
       "      <td>1.000000</td>\n",
       "      <td>-0.025019</td>\n",
       "      <td>0.003750</td>\n",
       "      <td>0.787251</td>\n",
       "    </tr>\n",
       "    <tr>\n",
       "      <th>age</th>\n",
       "      <td>-0.025019</td>\n",
       "      <td>1.000000</td>\n",
       "      <td>0.109272</td>\n",
       "      <td>0.299008</td>\n",
       "    </tr>\n",
       "    <tr>\n",
       "      <th>bmi</th>\n",
       "      <td>0.003750</td>\n",
       "      <td>0.109272</td>\n",
       "      <td>1.000000</td>\n",
       "      <td>0.198341</td>\n",
       "    </tr>\n",
       "    <tr>\n",
       "      <th>charges</th>\n",
       "      <td>0.787251</td>\n",
       "      <td>0.299008</td>\n",
       "      <td>0.198341</td>\n",
       "      <td>1.000000</td>\n",
       "    </tr>\n",
       "  </tbody>\n",
       "</table>\n",
       "</div>"
      ],
      "text/plain": [
       "           smoker       age       bmi   charges\n",
       "smoker   1.000000 -0.025019  0.003750  0.787251\n",
       "age     -0.025019  1.000000  0.109272  0.299008\n",
       "bmi      0.003750  0.109272  1.000000  0.198341\n",
       "charges  0.787251  0.299008  0.198341  1.000000"
      ]
     },
     "execution_count": 13,
     "metadata": {},
     "output_type": "execute_result"
    }
   ],
   "source": [
    "df_meaningful.corr()"
   ]
  },
  {
   "cell_type": "markdown",
   "metadata": {},
   "source": [
    "As shown, there is no significant correlation between features, so further we should not worry about feature multicollinearity."
   ]
  },
  {
   "cell_type": "markdown",
   "metadata": {},
   "source": [
    "# Data Preparation\n",
    "Further we will try several machine learning techniques to solve the task. To compare methods efficiency and check whether they suffer from overfittting we will need to split data into train and test sets.\n",
    "\n",
    "Since the amount of available data is not very big, we will use classic strategy for splitting data: 70% for training set and 30% for testing set. That should be enough for both training the models and evaluating their performance."
   ]
  },
  {
   "cell_type": "code",
   "execution_count": 14,
   "metadata": {},
   "outputs": [
    {
     "data": {
      "text/plain": [
       "(936, 402)"
      ]
     },
     "execution_count": 14,
     "metadata": {},
     "output_type": "execute_result"
    }
   ],
   "source": [
    "from sklearn.model_selection import train_test_split\n",
    "\n",
    "train, test = train_test_split(df_meaningful, test_size=0.3, random_state=1)\n",
    "\n",
    "train.shape[0], test.shape[0]"
   ]
  },
  {
   "cell_type": "markdown",
   "metadata": {},
   "source": [
    "So we have 936 train samples and 402 test samples.\n",
    "\n",
    "Some of the methods that we are going to use require normalization (or standartization) of data. Of course, the type of normalization (or decision of not using normalization at all) should be picked individually for every particular method. However, since we wish to try as many methods as possible and focus on exploring their particular properties, we decided to use the same normalization for all of them. \n",
    "\n",
    "We decided to use standartization, because it's less sensitive to outliers, than min-max normalization\n",
    "\n",
    "Both train and test set should be normalized using statistics of the train set."
   ]
  },
  {
   "cell_type": "code",
   "execution_count": 15,
   "metadata": {},
   "outputs": [
    {
     "name": "stdout",
     "output_type": "stream",
     "text": [
      "12197.308212562428 13276.698553898494\n"
     ]
    },
    {
     "name": "stderr",
     "output_type": "stream",
     "text": [
      "C:\\ProgramData\\Anaconda3\\lib\\site-packages\\sklearn\\preprocessing\\data.py:645: DataConversionWarning: Data with input dtype int64, float64 were all converted to float64 by StandardScaler.\n",
      "  return self.partial_fit(X, y)\n",
      "C:\\ProgramData\\Anaconda3\\lib\\site-packages\\sklearn\\base.py:464: DataConversionWarning: Data with input dtype int64, float64 were all converted to float64 by StandardScaler.\n",
      "  return self.fit(X, **fit_params).transform(X)\n",
      "C:\\ProgramData\\Anaconda3\\lib\\site-packages\\ipykernel_launcher.py:10: DataConversionWarning: Data with input dtype int64, float64 were all converted to float64 by StandardScaler.\n",
      "  # Remove the CWD from sys.path while we load stuff.\n"
     ]
    }
   ],
   "source": [
    "from sklearn.preprocessing import  StandardScaler\n",
    "\n",
    "scaler = StandardScaler()\n",
    "\n",
    "train, test = train.copy(), test.copy()  # split returns view of source dataframe \n",
    "train_y_std, train_y_mean = train['charges'].std(), train['charges'].mean()  # we will need it later\n",
    "print(train_y_std, train_y_mean)\n",
    "\n",
    "train[train.columns] = scaler.fit_transform(train)\n",
    "test[test.columns] = scaler.transform(test)\n",
    "\n",
    "train_x, train_y = train.loc[:, train.columns != 'charges'], train['charges']\n",
    "test_x, test_y = test.loc[:, test.columns != 'charges'], test['charges']"
   ]
  },
  {
   "cell_type": "markdown",
   "metadata": {},
   "source": [
    "# Solving the Task\n",
    "\n",
    "The task of predicting charges using customers features is a regression task (because we want to predict a real continuous number).\n",
    "\n",
    "We are going to try several machine learning methods for regression tasks, including linear regression, decision trees, neighrest neighbours, gradient boosting and random forest. We will also build and train a simple MLP neural network.\n",
    "\n",
    "For evaluating the models and comparing their performance, will need to choose a score functions. R2 score - coefficient of determination - seems reasonable for this task (the best possible score is 1)."
   ]
  },
  {
   "cell_type": "code",
   "execution_count": 16,
   "metadata": {},
   "outputs": [],
   "source": [
    "from sklearn.metrics import mean_squared_error\n",
    "from sklearn.metrics import r2_score\n",
    "\n",
    "\n",
    "def compute_test_score(algorithm, x=test_x, y=test_y):\n",
    "    prediction = algorithm.predict(x)\n",
    "    return r2_score(y, prediction)\n",
    "\n",
    "scores_dict = {}\n",
    "models_dict = {}"
   ]
  },
  {
   "cell_type": "markdown",
   "metadata": {},
   "source": [
    "Before going further, it's important to notice that obtained estimates are not enough to objectively evaluate the efficiency of the method. For comprehensive analysis we would also need to try different hyperparameters, data preprocessing, train/test sizes, normalization techniques, etc. Moreover, in cases when we try different hyperparameters for the method we choose the best one using holdout method. K-fold or LOO could give better results."
   ]
  },
  {
   "cell_type": "markdown",
   "metadata": {},
   "source": [
    "# Linear Regression\n",
    "Linear regression is probably the simplest regression method. Based on the assumption that the relationship between features and target is a linear function, the goal of the method is to estimate the coefficients of this function."
   ]
  },
  {
   "cell_type": "code",
   "execution_count": 17,
   "metadata": {},
   "outputs": [
    {
     "data": {
      "text/plain": [
       "LinearRegression(copy_X=True, fit_intercept=True, n_jobs=None,\n",
       "         normalize=False)"
      ]
     },
     "execution_count": 17,
     "metadata": {},
     "output_type": "execute_result"
    }
   ],
   "source": [
    "from sklearn.linear_model import LinearRegression\n",
    "\n",
    "regr_linear = LinearRegression()\n",
    "regr_linear.fit(train_x, train_y)"
   ]
  },
  {
   "cell_type": "code",
   "execution_count": 18,
   "metadata": {},
   "outputs": [
    {
     "data": {
      "text/plain": [
       "0.7349606898512976"
      ]
     },
     "execution_count": 18,
     "metadata": {},
     "output_type": "execute_result"
    }
   ],
   "source": [
    "score = compute_test_score(regr_linear)\n",
    "scores_dict['Linear Regression'] = score\n",
    "models_dict['Linear Regression'] = regr_linear\n",
    "score"
   ]
  },
  {
   "cell_type": "markdown",
   "metadata": {},
   "source": [
    "Let's look at the coefficients of each feature:"
   ]
  },
  {
   "cell_type": "code",
   "execution_count": 19,
   "metadata": {},
   "outputs": [
    {
     "data": {
      "text/html": [
       "<div>\n",
       "<style scoped>\n",
       "    .dataframe tbody tr th:only-of-type {\n",
       "        vertical-align: middle;\n",
       "    }\n",
       "\n",
       "    .dataframe tbody tr th {\n",
       "        vertical-align: top;\n",
       "    }\n",
       "\n",
       "    .dataframe thead th {\n",
       "        text-align: right;\n",
       "    }\n",
       "</style>\n",
       "<table border=\"1\" class=\"dataframe\">\n",
       "  <thead>\n",
       "    <tr style=\"text-align: right;\">\n",
       "      <th></th>\n",
       "      <th>coef</th>\n",
       "    </tr>\n",
       "  </thead>\n",
       "  <tbody>\n",
       "    <tr>\n",
       "      <th>smoker</th>\n",
       "      <td>0.797220</td>\n",
       "    </tr>\n",
       "    <tr>\n",
       "      <th>age</th>\n",
       "      <td>0.290853</td>\n",
       "    </tr>\n",
       "    <tr>\n",
       "      <th>bmi</th>\n",
       "      <td>0.152395</td>\n",
       "    </tr>\n",
       "  </tbody>\n",
       "</table>\n",
       "</div>"
      ],
      "text/plain": [
       "            coef\n",
       "smoker  0.797220\n",
       "age     0.290853\n",
       "bmi     0.152395"
      ]
     },
     "execution_count": 19,
     "metadata": {},
     "output_type": "execute_result"
    }
   ],
   "source": [
    "coefficients = pd.DataFrame(regr_linear.coef_, index=train_x.columns, columns=['coef'])\n",
    "coefficients"
   ]
  },
  {
   "cell_type": "markdown",
   "metadata": {},
   "source": [
    "Expectedly, the smoker factor seems to be the most important. Obtained results go along well with Pearson correlation, that was computed for original database.\n",
    "\n",
    "The main drawback of the linear regression model is that it's not capable of modeling data more complex, than linear."
   ]
  },
  {
   "cell_type": "markdown",
   "metadata": {},
   "source": [
    "# kNN\n",
    "kNN is a non-parametrical metric method. The predicted value of the target variable ('charges' in our case) is the average between values of its K nearest neighbors.\n",
    "\n",
    "Let's choose the best values for K, weights of neighbors and metric using grid search with KFold cross valisation."
   ]
  },
  {
   "cell_type": "code",
   "execution_count": 20,
   "metadata": {},
   "outputs": [
    {
     "name": "stdout",
     "output_type": "stream",
     "text": [
      "Best k: 15, test error: 0.16734\n"
     ]
    },
    {
     "data": {
      "text/plain": [
       "0.8499284200855076"
      ]
     },
     "execution_count": 20,
     "metadata": {},
     "output_type": "execute_result"
    }
   ],
   "source": [
    "from sklearn.neighbors import KNeighborsRegressor\n",
    "from sklearn.model_selection import KFold, cross_val_score, GridSearchCV\n",
    "\n",
    "k_values = range(1, 20, 2)\n",
    "cv=KFold(n_splits=3, shuffle=True, random_state=0)\n",
    "\n",
    "min_error = -np.inf\n",
    "best_k = -1\n",
    "best_knn = None\n",
    "\n",
    "for k in k_values:\n",
    "    knn = KNeighborsRegressor(n_neighbors=k)\n",
    "    knn.fit(train_x, train_y)\n",
    "    test_error = cross_val_score(knn, train_x, train_y, cv=cv, scoring=\"neg_mean_squared_error\").mean()\n",
    "    if test_error > min_error:\n",
    "        min_error = test_error\n",
    "        best_k = k\n",
    "        best_knn = knn\n",
    "        \n",
    "print(f'Best k: {best_k}, test error: {-min_error:.5f}')\n",
    "score = compute_test_score(best_knn)\n",
    "scores_dict['kNN'] = score\n",
    "models_dict['kNN'] = best_knn\n",
    "score"
   ]
  },
  {
   "cell_type": "markdown",
   "metadata": {},
   "source": [
    "The main disadvantage of kNN algorithm is the complexity of computing distances between new sample and all the train samples. In case when there are a lot of features it can be an extremely expensive computational operation."
   ]
  },
  {
   "cell_type": "markdown",
   "metadata": {},
   "source": [
    "# Decision Tree\n",
    "Decision Trees is a simple, fast (O(n) during training and O(log n) during prediction) and yet efficient method for solving classification and regression tasks, especially in cases, when the number of features is small.\n",
    "\n",
    "The most important parameter of decision tree is its depth. Since decision tree is a greedy algorithm, it tends to excessively increase the depth of the tree with leaves containing very few examples, and hence suffers from overfitting.\n",
    "\n",
    "Let's try to train a decision tree regressor without specifying it's max_depth and check it's depth and test error."
   ]
  },
  {
   "cell_type": "code",
   "execution_count": 21,
   "metadata": {},
   "outputs": [
    {
     "name": "stdout",
     "output_type": "stream",
     "text": [
      "Depth: 22, test score: 0.67099\n"
     ]
    }
   ],
   "source": [
    "from sklearn.tree import DecisionTreeRegressor\n",
    "\n",
    "regr_tree = DecisionTreeRegressor()\n",
    "regr_tree.fit(train_x, train_y)\n",
    "depth = regr_tree.tree_.max_depth\n",
    "test_score = compute_test_score(regr_tree)\n",
    "print(f'Depth: {depth}, test score: {test_score:.5f}')"
   ]
  },
  {
   "cell_type": "markdown",
   "metadata": {},
   "source": [
    "Depth of 22 seems to be too much for a task with only 3 features. Small score also indicates possible overfitting.\n",
    "\n",
    "Let's build several decision trees with different max_depths and choose the one with the minimum test error."
   ]
  },
  {
   "cell_type": "code",
   "execution_count": 22,
   "metadata": {},
   "outputs": [
    {
     "name": "stdout",
     "output_type": "stream",
     "text": [
      "Best depth: 4, test score: 0.84807\n"
     ]
    }
   ],
   "source": [
    "depth_values = range(1, 23)  # check all depths in range from 1 to depth, that was chosen automatically (22)\n",
    "\n",
    "max_score = -np.inf\n",
    "best_depth = -1\n",
    "best_tree = regr_tree\n",
    "\n",
    "for depth in depth_values:\n",
    "    regr_tree = DecisionTreeRegressor(max_depth=depth)\n",
    "    regr_tree.fit(train_x, train_y)\n",
    "    test_score = compute_test_score(regr_tree, test_x, test_y)\n",
    "    if test_score > max_score:\n",
    "        max_score = test_score\n",
    "        best_depth = depth\n",
    "        best_tree = regr_tree\n",
    "        \n",
    "print(f'Best depth: {best_depth}, test score: {max_score:.5f}')\n",
    "scores_dict['Decision Tree'] = max_score\n",
    "models_dict['Decision Tree'] = best_tree"
   ]
  },
  {
   "cell_type": "markdown",
   "metadata": {},
   "source": [
    "The best depth for decision tree is 4.\n",
    "\n",
    "On the analogy with linear regression, we can look at importance of each feature:"
   ]
  },
  {
   "cell_type": "code",
   "execution_count": 23,
   "metadata": {},
   "outputs": [
    {
     "data": {
      "text/html": [
       "<div>\n",
       "<style scoped>\n",
       "    .dataframe tbody tr th:only-of-type {\n",
       "        vertical-align: middle;\n",
       "    }\n",
       "\n",
       "    .dataframe tbody tr th {\n",
       "        vertical-align: top;\n",
       "    }\n",
       "\n",
       "    .dataframe thead th {\n",
       "        text-align: right;\n",
       "    }\n",
       "</style>\n",
       "<table border=\"1\" class=\"dataframe\">\n",
       "  <thead>\n",
       "    <tr style=\"text-align: right;\">\n",
       "      <th></th>\n",
       "      <th>importance</th>\n",
       "    </tr>\n",
       "  </thead>\n",
       "  <tbody>\n",
       "    <tr>\n",
       "      <th>smoker</th>\n",
       "      <td>0.730470</td>\n",
       "    </tr>\n",
       "    <tr>\n",
       "      <th>age</th>\n",
       "      <td>0.108644</td>\n",
       "    </tr>\n",
       "    <tr>\n",
       "      <th>bmi</th>\n",
       "      <td>0.160885</td>\n",
       "    </tr>\n",
       "  </tbody>\n",
       "</table>\n",
       "</div>"
      ],
      "text/plain": [
       "        importance\n",
       "smoker    0.730470\n",
       "age       0.108644\n",
       "bmi       0.160885"
      ]
     },
     "execution_count": 23,
     "metadata": {},
     "output_type": "execute_result"
    }
   ],
   "source": [
    "feature_importances = pd.DataFrame(best_tree.feature_importances_, index=train_x.columns, columns=['importance'])\n",
    "feature_importances"
   ]
  },
  {
   "cell_type": "markdown",
   "metadata": {},
   "source": [
    "# Random Forest\n",
    "Random forest is method, based on bagging (ensembling) decision trees. Let's choose the same max_depth (equal to 4), that resulted in best performance for single decision tree."
   ]
  },
  {
   "cell_type": "code",
   "execution_count": 24,
   "metadata": {},
   "outputs": [
    {
     "data": {
      "text/plain": [
       "0.854081797856749"
      ]
     },
     "execution_count": 24,
     "metadata": {},
     "output_type": "execute_result"
    }
   ],
   "source": [
    "from sklearn.ensemble import RandomForestRegressor\n",
    "\n",
    "regr_rf = RandomForestRegressor(max_depth=4, n_estimators=100, random_state=0)\n",
    "regr_rf.fit(train_x, train_y)\n",
    "score = compute_test_score(regr_rf)\n",
    "scores_dict['Random Forest'] = score\n",
    "models_dict['Random Forest'] = regr_rf\n",
    "score"
   ]
  },
  {
   "cell_type": "markdown",
   "metadata": {},
   "source": [
    "As expected, ensembling of 100 trees improved the score significantly. "
   ]
  },
  {
   "cell_type": "markdown",
   "metadata": {},
   "source": [
    "# Gradient Boosting\n",
    "Gradient boosting is another ensempling method. Unlike bagging, it's an iterative technique in which observations are weighted based on previous estimators result."
   ]
  },
  {
   "cell_type": "code",
   "execution_count": 25,
   "metadata": {},
   "outputs": [
    {
     "data": {
      "text/plain": [
       "0.8556880883283207"
      ]
     },
     "execution_count": 25,
     "metadata": {},
     "output_type": "execute_result"
    }
   ],
   "source": [
    "from sklearn.ensemble import GradientBoostingRegressor\n",
    "\n",
    "regr_grad = GradientBoostingRegressor(random_state=0)\n",
    "regr_grad.fit(train_x, train_y)\n",
    "score = compute_test_score(regr_grad)\n",
    "scores_dict['Gradient Boosting'] = score\n",
    "models_dict['Gradient Boosting'] = regr_grad\n",
    "score"
   ]
  },
  {
   "cell_type": "markdown",
   "metadata": {},
   "source": [
    "Gradient boosting is a really powerful method as evidenced by its results. It's the best model we tried so far."
   ]
  },
  {
   "cell_type": "markdown",
   "metadata": {},
   "source": [
    "# Neural Network\n",
    "\n",
    "Although using a neural network seems to be somewhat overkill for this task, it's still interesting to compare its performance with classical machine learning approaches.\n",
    "\n",
    "As known, neural network with only linear layers without activation functions is basically the same as linear regression. We'll check it out  below(option n_layers=1).\n",
    "\n",
    "We'll also train a MLP neural network with different number of hidden layers (2, 5 and 10) and compare its performance with classical machine learning approaches.\n",
    "\n",
    "All models will be trained for 10000 iterations."
   ]
  },
  {
   "cell_type": "code",
   "execution_count": 26,
   "metadata": {},
   "outputs": [
    {
     "data": {
      "text/plain": [
       "<torch._C.Generator at 0x233563d3c70>"
      ]
     },
     "execution_count": 26,
     "metadata": {},
     "output_type": "execute_result"
    }
   ],
   "source": [
    "import torch\n",
    "import torch.nn as nn\n",
    "\n",
    "torch.manual_seed(0)"
   ]
  },
  {
   "cell_type": "code",
   "execution_count": 27,
   "metadata": {},
   "outputs": [],
   "source": [
    "class LinearNet(nn.Module):\n",
    "    def __init__(self, input_dim, hidden_dim, output_dim=1, n_layers=1):\n",
    "        super(LinearNet, self).__init__()\n",
    "        \n",
    "        if n_layers == 1:\n",
    "            self.model = nn.Linear(input_dim, output_dim)\n",
    "            \n",
    "        else:\n",
    "            model = [nn.Linear(input_dim, hidden_dim), nn.ReLU()]\n",
    "            \n",
    "            for i in range(n_layers-2):\n",
    "                model.append(nn.Linear(hidden_dim, hidden_dim))\n",
    "                model.append(nn.ReLU())\n",
    "                \n",
    "            model.append(nn.Linear(hidden_dim, output_dim))\n",
    "#             model.append(nn.ReLU())\n",
    "            self.model = nn.Sequential(*model)\n",
    "        \n",
    "    def forward(self, input):\n",
    "        out = self.model(input)\n",
    "        return out"
   ]
  },
  {
   "cell_type": "code",
   "execution_count": 28,
   "metadata": {},
   "outputs": [],
   "source": [
    "num_layers = [1, 2, 5, 10]\n",
    "\n",
    "train_x_tensor = torch.tensor(train_x.values.astype(np.float32))\n",
    "train_y_tensor = torch.tensor(train_y.values.astype(np.float32)).unsqueeze(-1)\n",
    "\n",
    "test_x_tensor = torch.tensor(test_x.values.astype(np.float32))\n",
    "test_y_tensor = torch.tensor(test_y.values.astype(np.float32)).unsqueeze(-1)"
   ]
  },
  {
   "cell_type": "code",
   "execution_count": 29,
   "metadata": {},
   "outputs": [
    {
     "name": "stdout",
     "output_type": "stream",
     "text": [
      "-----1-layer MLP-----\n",
      "Iter 0: train loss: 1.47283,                    validation loss: 1.42484\n",
      "Iter 2000: train loss: 0.88036,                    validation loss: 0.85533\n",
      "Iter 4000: train loss: 0.52849,                    validation loss: 0.51805\n",
      "Iter 6000: train loss: 0.34376,                    validation loss: 0.34100\n",
      "Iter 8000: train loss: 0.26775,                    validation loss: 0.26818\n",
      "Iter 10000: train loss: 0.24904,                    validation loss: 0.25247\n",
      "-----2-layer MLP-----\n",
      "Iter 0: train loss: 1.18706,                    validation loss: 1.12299\n",
      "Iter 2000: train loss: 0.56965,                    validation loss: 0.54642\n",
      "Iter 4000: train loss: 0.24156,                    validation loss: 0.24054\n",
      "Iter 6000: train loss: 0.17055,                    validation loss: 0.16789\n",
      "Iter 8000: train loss: 0.15954,                    validation loss: 0.15005\n",
      "Iter 10000: train loss: 0.15915,                    validation loss: 0.14893\n",
      "-----5-layer MLP-----\n",
      "Iter 0: train loss: 1.11250,                    validation loss: 1.06461\n",
      "Iter 2000: train loss: 0.42209,                    validation loss: 0.41842\n",
      "Iter 4000: train loss: 0.17155,                    validation loss: 0.16770\n",
      "Iter 6000: train loss: 0.15403,                    validation loss: 0.14541\n",
      "Iter 8000: train loss: 0.14549,                    validation loss: 0.13685\n",
      "Iter 10000: train loss: 0.14081,                    validation loss: 0.13203\n",
      "-----10-layer MLP-----\n",
      "Iter 0: train loss: 1.00218,                    validation loss: 0.95558\n",
      "Iter 2000: train loss: 0.49728,                    validation loss: 0.48903\n",
      "Iter 4000: train loss: 0.16212,                    validation loss: 0.15413\n",
      "Iter 6000: train loss: 0.14928,                    validation loss: 0.14203\n",
      "Iter 8000: train loss: 0.14767,                    validation loss: 0.14115\n",
      "Iter 10000: train loss: 0.14664,                    validation loss: 0.14068\n"
     ]
    }
   ],
   "source": [
    "for n in num_layers:\n",
    "    print(f'-----{n}-layer MLP-----')\n",
    "    model = LinearNet(input_dim=3, hidden_dim=5, n_layers=n)\n",
    "    optimizer = torch.optim.Adam(model.parameters(), lr=1e-4)\n",
    "    criterion = torch.nn.MSELoss()\n",
    "    \n",
    "    for iter in range(10001):\n",
    "   \n",
    "        y_pred = model(train_x_tensor)\n",
    "        train_loss = criterion(train_y_tensor, y_pred)\n",
    "        optimizer.zero_grad()\n",
    "\n",
    "        train_loss.backward()\n",
    "\n",
    "        optimizer.step()\n",
    "\n",
    "        if iter % 2000 == 0:\n",
    "            model.eval()\n",
    "\n",
    "            y_pred_val = model(test_x_tensor)\n",
    "            val_loss = criterion(test_y_tensor, y_pred_val)\n",
    "\n",
    "            print(f'Iter {iter}: train loss: {train_loss.item():.5f},\\\n",
    "                    validation loss: {val_loss.item():.5f}')\n",
    "\n",
    "            model.train()\n",
    "    y_pred = model(test_x_tensor).detach().numpy()\n",
    "    score = r2_score(test_y, y_pred)\n",
    "    scores_dict[f'{n}-layer NN'] = score\n",
    "    models_dict[f'{n}-layer NN'] = model"
   ]
  },
  {
   "cell_type": "markdown",
   "metadata": {},
   "source": [
    "Networks results will be discussed in the next section."
   ]
  },
  {
   "cell_type": "markdown",
   "metadata": {},
   "source": [
    "# Models Comparison"
   ]
  },
  {
   "cell_type": "code",
   "execution_count": 30,
   "metadata": {},
   "outputs": [],
   "source": [
    "scores_df = pd.DataFrame.from_dict(scores_dict.items())\n",
    "scores_df.columns = ['Model', 'Score']"
   ]
  },
  {
   "cell_type": "code",
   "execution_count": 31,
   "metadata": {},
   "outputs": [
    {
     "data": {
      "text/html": [
       "<div>\n",
       "<style scoped>\n",
       "    .dataframe tbody tr th:only-of-type {\n",
       "        vertical-align: middle;\n",
       "    }\n",
       "\n",
       "    .dataframe tbody tr th {\n",
       "        vertical-align: top;\n",
       "    }\n",
       "\n",
       "    .dataframe thead th {\n",
       "        text-align: right;\n",
       "    }\n",
       "</style>\n",
       "<table border=\"1\" class=\"dataframe\">\n",
       "  <thead>\n",
       "    <tr style=\"text-align: right;\">\n",
       "      <th></th>\n",
       "      <th>Model</th>\n",
       "      <th>Score</th>\n",
       "    </tr>\n",
       "  </thead>\n",
       "  <tbody>\n",
       "    <tr>\n",
       "      <th>0</th>\n",
       "      <td>Linear Regression</td>\n",
       "      <td>0.734961</td>\n",
       "    </tr>\n",
       "    <tr>\n",
       "      <th>1</th>\n",
       "      <td>kNN</td>\n",
       "      <td>0.849928</td>\n",
       "    </tr>\n",
       "    <tr>\n",
       "      <th>2</th>\n",
       "      <td>Decision Tree</td>\n",
       "      <td>0.848067</td>\n",
       "    </tr>\n",
       "    <tr>\n",
       "      <th>3</th>\n",
       "      <td>Random Forest</td>\n",
       "      <td>0.854082</td>\n",
       "    </tr>\n",
       "    <tr>\n",
       "      <th>4</th>\n",
       "      <td>Gradient Boosting</td>\n",
       "      <td>0.855688</td>\n",
       "    </tr>\n",
       "    <tr>\n",
       "      <th>5</th>\n",
       "      <td>1-layer NN</td>\n",
       "      <td>0.735236</td>\n",
       "    </tr>\n",
       "    <tr>\n",
       "      <th>6</th>\n",
       "      <td>2-layer NN</td>\n",
       "      <td>0.843817</td>\n",
       "    </tr>\n",
       "    <tr>\n",
       "      <th>7</th>\n",
       "      <td>5-layer NN</td>\n",
       "      <td>0.861538</td>\n",
       "    </tr>\n",
       "    <tr>\n",
       "      <th>8</th>\n",
       "      <td>10-layer NN</td>\n",
       "      <td>0.852468</td>\n",
       "    </tr>\n",
       "  </tbody>\n",
       "</table>\n",
       "</div>"
      ],
      "text/plain": [
       "               Model     Score\n",
       "0  Linear Regression  0.734961\n",
       "1                kNN  0.849928\n",
       "2      Decision Tree  0.848067\n",
       "3      Random Forest  0.854082\n",
       "4  Gradient Boosting  0.855688\n",
       "5         1-layer NN  0.735236\n",
       "6         2-layer NN  0.843817\n",
       "7         5-layer NN  0.861538\n",
       "8        10-layer NN  0.852468"
      ]
     },
     "execution_count": 31,
     "metadata": {},
     "output_type": "execute_result"
    }
   ],
   "source": [
    "scores_df"
   ]
  },
  {
   "cell_type": "markdown",
   "metadata": {},
   "source": [
    "As it was stated in neural networks section, linear network without activation functions is the same as linear regression, which can be seen in scores.\n",
    "\n",
    "Neural networks with activations resulted in great scores and outperformed other models. \n",
    "\n",
    "The best scores were obtained using ensemble models (random forest and gradient boosting) and neural networks with activations. However, the gap between performance of classical machine learning networks and neural networks is not so crucial. In most cases accuracy of classical methods is sufficient and it's not worth training a neural network, which takes quite a long time."
   ]
  },
  {
   "cell_type": "markdown",
   "metadata": {},
   "source": [
    "# Visualizing Results\n",
    "Let's predict charges for test set using each model (except 1-layer NN), denormalize features and visualize the results:"
   ]
  },
  {
   "cell_type": "code",
   "execution_count": 32,
   "metadata": {},
   "outputs": [],
   "source": [
    "def denormalize(sample, mean=train_y_mean, std=train_y_std):\n",
    "    return sample * train_y_std + train_y_mean\n",
    "\n",
    "test_y_predicted = {}\n",
    "\n",
    "test_y_predicted['Ground truth'] = denormalize(test['charges'])\n",
    "\n",
    "for model_name, model in models_dict.items():\n",
    "    if model_name == '1-layer NN':\n",
    "        continue\n",
    "    elif 'layer NN' in model_name:\n",
    "        prediction = model(test_x_tensor).detach().squeeze().numpy()\n",
    "    else:\n",
    "        prediction = model.predict(test_x)\n",
    "    test_y_predicted[model_name] = denormalize(prediction)"
   ]
  },
  {
   "cell_type": "code",
   "execution_count": 33,
   "metadata": {},
   "outputs": [
    {
     "data": {
      "image/png": "[encoded data removed]",
      "text/plain": [
       "<Figure size 720x360 with 1 Axes>"
      ]
     },
     "metadata": {
      "needs_background": "light"
     },
     "output_type": "display_data"
    }
   ],
   "source": [
    "from matplotlib import cm\n",
    "\n",
    "n = 30  # number of samples to display\n",
    "\n",
    "plt.figure(figsize=(10,5))\n",
    "colors = cm.rainbow(np.linspace(0, 1, len(test_y_predicted)))\n",
    "for ind, (model_name, y) in enumerate(test_y_predicted.items()):\n",
    "    plt.scatter(list(range(n)), list(y[:n]), color=colors[ind], label=model_name)\n",
    "    plt.vlines(np.arange(n), ymin=np.zeros(n), ymax=y[:n], linewidth=1)\n",
    "    plt.xlabel(c)\n",
    "    plt.ylabel('charges')    \n",
    "plt.legend()\n",
    "plt.show()"
   ]
  },
  {
   "cell_type": "markdown",
   "metadata": {},
   "source": [
    "Except some outliers, results look pretty good :)"
   ]
  },
  {
   "cell_type": "markdown",
   "metadata": {},
   "source": [
    "Let's compare prediction made by one of the models (for example, gradient boosting) with ground truth value:"
   ]
  },
  {
   "cell_type": "code",
   "execution_count": 36,
   "metadata": {},
   "outputs": [
    {
     "name": "stdout",
     "output_type": "stream",
     "text": [
      "Predicted charges: 13344.967334007968 / Ground truth charges: 12235.282739466307\n"
     ]
    }
   ],
   "source": [
    "ind = np.random.choice(test_x.shape[0])  # select random sample\n",
    "x_sample = np.expand_dims(test_x.iloc[ind].to_numpy(), axis=0)\n",
    "y_sample = denormalize(test_y.iloc[ind])\n",
    "y_pred = denormalize(models_dict['Gradient Boosting'].predict(x_sample))\n",
    "print(f'Predicted charges: {y_pred[0]} / Ground truth charges: {y_sample}')"
   ]
  },
  {
   "cell_type": "markdown",
   "metadata": {},
   "source": [
    "# Summary\n",
    "In this notebook we:\n",
    "- analysed the data and features;\n",
    "- found the most important features ('smoker', 'age' and 'bmi');\n",
    "- tested a bunch of machine learning algorithms (linear regression, knn, decision trees, random forest and gradient boosting) and trained several neural networks with different number of layers. Ensemble models and neural networks showed the best scores;\n",
    "- evaluated performances of these models;\n",
    "- visualized their results."
   ]
  }
 ],
 "metadata": {
  "kernelspec": {
   "display_name": "Python 3",
   "language": "python",
   "name": "python3"
  },
  "language_info": {
   "codemirror_mode": {
    "name": "ipython",
    "version": 3
   },
   "file_extension": ".py",
   "mimetype": "text/x-python",
   "name": "python",
   "nbconvert_exporter": "python",
   "pygments_lexer": "ipython3",
   "version": "3.7.3"
  }
 },
 "nbformat": 4,
 "nbformat_minor": 2
}
